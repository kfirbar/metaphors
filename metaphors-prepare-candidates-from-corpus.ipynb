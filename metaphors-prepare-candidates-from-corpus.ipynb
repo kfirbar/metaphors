{
 "cells": [
  {
   "cell_type": "code",
   "execution_count": 2,
   "metadata": {
    "collapsed": true
   },
   "outputs": [],
   "source": [
    "import pandas as pd\n",
    "import os\n",
    "import gzip\n",
    "import spacy as sp\n",
    "from collections import Counter\n",
    "from sklearn.metrics.pairwise import cosine_similarity\n",
    "from math import log\n",
    "from collections import defaultdict\n",
    "from sklearn.cluster import DBSCAN\n",
    "from math import log\n",
    "from nltk.corpus import wordnet as wn\n",
    "import nltk\n",
    "from itertools import product\n",
    "import pickle\n",
    "import warnings\n",
    "warnings.filterwarnings('ignore')"
   ]
  },
  {
   "cell_type": "code",
   "execution_count": 44,
   "metadata": {
    "collapsed": true
   },
   "outputs": [],
   "source": [
    "nlp = sp.load('en')"
   ]
  },
  {
   "cell_type": "code",
   "execution_count": 1,
   "metadata": {},
   "outputs": [
    {
     "ename": "NameError",
     "evalue": "name 'pd' is not defined",
     "output_type": "error",
     "traceback": [
      "\u001b[0;31m---------------------------------------------------------------------------\u001b[0m",
      "\u001b[0;31mNameError\u001b[0m                                 Traceback (most recent call last)",
      "\u001b[0;32m<ipython-input-1-c35b98f9bb0c>\u001b[0m in \u001b[0;36m<module>\u001b[0;34m()\u001b[0m\n\u001b[0;32m----> 1\u001b[0;31m \u001b[0meval_data\u001b[0m \u001b[0;34m=\u001b[0m \u001b[0mpd\u001b[0m\u001b[0;34m.\u001b[0m\u001b[0mread_csv\u001b[0m\u001b[0;34m(\u001b[0m\u001b[0;34m\"eval-mod.csv\"\u001b[0m\u001b[0;34m)\u001b[0m\u001b[0;34m\u001b[0m\u001b[0m\n\u001b[0m\u001b[1;32m      2\u001b[0m \u001b[0;34m\u001b[0m\u001b[0m\n\u001b[1;32m      3\u001b[0m \u001b[0mmetaphor_words\u001b[0m \u001b[0;34m=\u001b[0m \u001b[0;34m[\u001b[0m\u001b[0;34m]\u001b[0m\u001b[0;34m\u001b[0m\u001b[0m\n\u001b[1;32m      4\u001b[0m \u001b[0mmetaphors\u001b[0m \u001b[0;34m=\u001b[0m \u001b[0;34m{\u001b[0m\u001b[0;34m}\u001b[0m\u001b[0;34m\u001b[0m\u001b[0m\n\u001b[1;32m      5\u001b[0m \u001b[0;34m\u001b[0m\u001b[0m\n",
      "\u001b[0;31mNameError\u001b[0m: name 'pd' is not defined"
     ]
    }
   ],
   "source": [
    "eval_data = pd.read_csv(\"eval-mod.csv\")\n",
    "\n",
    "metaphor_words = []\n",
    "metaphors = {}\n",
    "\n",
    "for r in eval_data.iterrows():\n",
    "    tokens = nlp(r[1][\"Metaphor\"].decode('utf-8', errors='ignore').strip().lower())\n",
    "    topic = tokens[0]\n",
    "    vehicle = tokens[-1]\n",
    "    if topic.lemma_ not in metaphor_words:\n",
    "        metaphor_words.append(topic.lemma_)\n",
    "    if vehicle.lemma_ not in metaphor_words:\n",
    "        metaphor_words.append(vehicle.lemma_)\n",
    "    if r[1][\"Metaphor\"] not in metaphors:\n",
    "        metaphors[r[1][\"Metaphor\"]] = [topic.lemma_, vehicle.lemma_, \n",
    "                                       [(str(r[1][\"Interpretation\"]).lower(), r[1][\"Freq\"])],\n",
    "                                       [str(r[1][\"Interpretation\"]).lower()]\n",
    "                                      ]\n",
    "    else:\n",
    "        metaphors[r[1][\"Metaphor\"]][2].append((str(r[1][\"Interpretation\"]).lower(), r[1][\"Freq\"]))\n",
    "        metaphors[r[1][\"Metaphor\"]][3].append(str(r[1][\"Interpretation\"]).lower())\n"
   ]
  },
  {
   "cell_type": "code",
   "execution_count": 162,
   "metadata": {
    "collapsed": true
   },
   "outputs": [],
   "source": [
    "class Lang:\n",
    "    def __init__(self):\n",
    "        self.vec = []\n",
    "        self.word_count = 0\n",
    "        self.ind2word = {}\n",
    "        self.word2ind = {}\n",
    "        for line in open(\"../glove.6B/glove.6B.300d.txt\"):\n",
    "            values = line.split(\" \")\n",
    "            v = []\n",
    "            for i in range (1, len(values)):\n",
    "                v.append(float(values[i]))\n",
    "            self.vec.append(v)\n",
    "            self.ind2word[self.word_count] = values[0]\n",
    "            self.word2ind[values[0]] = self.word_count\n",
    "            self.word_count += 1\n",
    "    \n",
    "    def get_vec(self, word):\n",
    "        word = word.strip().lower()\n",
    "        if word in self.word2ind:\n",
    "            return self.vec[self.word2ind[word]]\n",
    "        return None\n",
    "            \n",
    "lang = Lang()"
   ]
  },
  {
   "cell_type": "code",
   "execution_count": 371,
   "metadata": {
    "collapsed": true
   },
   "outputs": [],
   "source": [
    "class DepNode:\n",
    "    def __init__(self, line):\n",
    "        tokens = line.split('\\t')\n",
    "        self.id = int(tokens[0])\n",
    "        self.text = tokens[1].lower()\n",
    "        self.lemma = tokens[2].lower()\n",
    "        self.pos = tokens[3]\n",
    "        self.head = int(tokens[6])\n",
    "        self.dep_type = tokens[7]\n",
    "        self.children = []\n",
    "\n",
    "class DepSentence:\n",
    "    def __init__(self):\n",
    "        self.nodes = []\n",
    "        \n",
    "    def add_word(self, line):\n",
    "        node = DepNode(line)\n",
    "        self.nodes.append(node)\n",
    "        return node\n",
    "        \n",
    "    def rewire(self):\n",
    "        for n in self.nodes:\n",
    "            if n.dep_type != 'ROOT':\n",
    "                self.nodes[n.head].children.append(n)\n",
    "    \n",
    "    def is_valid_meaning(self):\n",
    "        #if self.pos in ['JJ', 'JJS', 'RB', 'VBG']:\n",
    "        if self.pos in ['JJ', 'JJS', 'VBG']:\n",
    "            return True\n",
    "        return False\n",
    "    \n",
    "    \n",
    "def find_candidates_for(words, dep_corpus_folder):\n",
    "    candidates = {}\n",
    "    files = [f for f in os.listdir(dep_corpus_folder) if os.path.isfile(os.path.join(dep_corpus_folder, f))]\n",
    "    for f in files:\n",
    "        full_path = os.path.join(dep_corpus_folder, f)\n",
    "        print \"processing\", full_path\n",
    "        sentence = None\n",
    "        valid = False\n",
    "        for line in gzip.open(full_path):\n",
    "            line = line.strip()\n",
    "            if len(line) > 0 and line[0] != '#':\n",
    "                if sentence is None:\n",
    "                    sentence = DepSentence()\n",
    "                node = sentence.add_word(line)\n",
    "                if node.text in words:\n",
    "                    valid = True\n",
    "            elif sentence is not None:\n",
    "                if valid:\n",
    "                    sentence.rewire()\n",
    "                    for n in sentence.nodes:\n",
    "                        if n.text in words:\n",
    "                            if n.text not in candidates:\n",
    "                                candidates[n.text] = Counter()\n",
    "                            if n.dep_type != 'ROOT' and is_valid_meaning(sentence.nodes[n.head].pos):\n",
    "                                candidates[n.text][sentence.nodes[n.head].text] += 1\n",
    "                            for c in n.children:\n",
    "                                if is_valid_meaning(c.pos):\n",
    "                                    candidates[n.text][c.text] += 1\n",
    "                sentence = None\n",
    "    return candidates"
   ]
  },
  {
   "cell_type": "code",
   "execution_count": 372,
   "metadata": {},
   "outputs": [
    {
     "name": "stdout",
     "output_type": "stream",
     "text": [
      "processing dep_corpus/part-m-00000.gz\n",
      "processing dep_corpus/part-m-00001.gz\n",
      "processing dep_corpus/part-m-00002.gz\n",
      "processing dep_corpus/part-m-00003.gz\n",
      "processing dep_corpus/part-m-00004.gz\n",
      "processing dep_corpus/part-m-00005.gz\n",
      "processing dep_corpus/part-m-00006.gz\n",
      "processing dep_corpus/part-m-00007.gz\n",
      "processing dep_corpus/part-m-00008.gz\n",
      "processing dep_corpus/part-m-00009.gz\n",
      "processing dep_corpus/part-m-00010.gz\n",
      "processing dep_corpus/part-m-00011.gz\n",
      "processing dep_corpus/part-m-00012.gz\n",
      "processing dep_corpus/part-m-00013.gz\n",
      "processing dep_corpus/part-m-00014.gz\n",
      "processing dep_corpus/part-m-00015.gz\n",
      "processing dep_corpus/part-m-00016.gz\n",
      "processing dep_corpus/part-m-00017.gz\n",
      "processing dep_corpus/part-m-00018.gz\n"
     ]
    }
   ],
   "source": [
    "candidates = find_candidates_for(metaphor_words, 'dep_corpus')"
   ]
  },
  {
   "cell_type": "code",
   "execution_count": 478,
   "metadata": {
    "collapsed": true
   },
   "outputs": [],
   "source": [
    "pickle.dump(candidates, open( \"candidates.p\", \"wb\" ) )"
   ]
  },
  {
   "cell_type": "code",
   "execution_count": 373,
   "metadata": {},
   "outputs": [
    {
     "name": "stdout",
     "output_type": "stream",
     "text": [
      "[('good', 333), ('not', 297), ('only', 228), ('true', 116), ('loving', 102), ('alone', 98), ('same', 89), ('angry', 75), ('great', 74), ('willing', 72), ('personal', 71), (\"n't\", 70), ('dear', 70), ('alive', 68), ('almighty', 67), ('all-powerful', 65), ('dead', 61), ('real', 54), ('just', 51), ('other', 50), ('faithful', 49), ('even', 48), ('then', 47), ('no', 44), ('merciful', 43), ('powerful', 41), ('so', 39), ('ever-living', 39), ('much', 38), ('such', 37), ('perfect', 37), ('omniscient', 37), ('present', 37), ('able', 35), ('omnipotent', 35), ('new', 34), ('false', 34), ('own', 34), ('holy', 34), ('infinite', 31), ('eternal', 28), ('also', 28), ('there', 28), ('responsible', 26), ('first', 24), ('perhaps', 24), ('amazing', 23), ('jealous', 23), ('human', 23), ('particular', 21), ('now', 21), ('best', 21), ('supernatural', 21), ('different', 21), ('happy', 20), ('awful', 19), ('christian', 19), ('therefore', 19), ('awesome', 19), ('wrong', 19), ('fully', 19), ('evil', 19), ('big', 19), ('full', 18), ('beautiful', 18), ('still', 18), ('sovereign', 18), ('maybe', 17), ('well', 17), ('rather', 16), ('truly', 16), ('bad', 16), ('active', 16), ('gracious', 16), ('old', 16), ('invisible', 15), ('all-knowing', 15), ('yet', 15), ('male', 14), ('really', 14), ('sure', 14), ('necessary', 14), ('fucking', 14), ('vedic', 14), ('worthy', 14), ('cruel', 14), ('formless', 13), ('important', 13), ('indeed', 12), ('unknown', 12), ('too', 12), ('vengeful', 12), ('capable', 12), ('irrelevant', 12), ('creative', 12), ('single', 12), ('again', 12), ('small', 11), ('free', 11), ('timeless', 11), ('right', 11), ('certainly', 10), ('here', 10), ('benevolent', 10), ('incarnate', 10), ('ancient', 10), ('actually', 10), ('young', 9), ('worth', 9), ('ever', 9), ('greek', 9), ('hard', 9), ('omnipresent', 9), ('thus', 9), ('ready', 9), ('generous', 9), ('back', 9), ('busy', 8), ('mysterious', 8), ('far', 8), ('mad', 8), ('bless', 8), ('stupid', 8), ('available', 8), ('thy', 8), ('greatest', 8), ('yes', 8), ('sick', 8), ('possible', 8), ('mighty', 8), ('thankful', 8), ('superfluous', 8), ('very', 7), ('compassionate', 7), ('biblical', 7), ('high', 7), ('huge', 7), ('wrathful', 7), ('correct', 7), ('little', 7), ('wonderful', 7), ('most', 7), ('forever', 7), ('sometimes', 7), ('slow', 7), ('probably', 7), ('many', 7), ('interested', 7), ('righteous', 7), ('apart', 7), ('unnecessary', 7), ('manifest', 7), ('contingent', 7), ('hands-off', 7), ('somehow', 7), ('deistic', 6), ('second', 6), ('further', 6), ('never', 6), ('strong', 6), ('bible', 6), ('brilliant', 6), ('gorgeous', 6), ('absolute', 6), ('intelligent', 6), ('hilarious', 6), ('porcelain', 6), ('loud', 6), ('anyway', 6), ('pretty', 6), ('lucky', 6), ('common', 6), ('close', 6), ('subject', 6), ('however', 6), ('equal', 6), ('whole', 6), ('supreme', 6), ('near', 6), ('all-seeing', 6), ('unique', 6), ('specific', 6), ('always', 6), ('immortal', 6), ('absent', 6), ('mammon', 6), ('sorry', 5), ('egyptian', 5), ('cool', 5), ('next', 5), ('ashamed', 5), ('actual', 5), ('glad', 5), ('transcendent', 5), ('benign', 5), ('your', 5), ('necessarily', 5), ('surely', 5), ('monolithic', 5), ('terrible', 5)]\n"
     ]
    }
   ],
   "source": [
    "print candidates['god'].most_common(200)"
   ]
  }
 ],
 "metadata": {
  "kernelspec": {
   "display_name": "Python 2",
   "language": "python",
   "name": "python2"
  },
  "language_info": {
   "codemirror_mode": {
    "name": "ipython",
    "version": 2
   },
   "file_extension": ".py",
   "mimetype": "text/x-python",
   "name": "python",
   "nbconvert_exporter": "python",
   "pygments_lexer": "ipython2",
   "version": "2.7.13"
  }
 },
 "nbformat": 4,
 "nbformat_minor": 2
}
